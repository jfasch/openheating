{
 "cells": [
  {
   "cell_type": "markdown",
   "metadata": {},
   "source": [
    "* [MathJax](https://docs.mathjax.org) macht LaTex Formeln\n",
    "* [LaTex Formeln](https://en.wikibooks.org/wiki/LaTeX/Mathematics)\n",
    "* [Zusammen mit Notebook](https://jupyter-notebook.readthedocs.io/en/stable/examples/Notebook/Typesetting%20Equations.html)"
   ]
  },
  {
   "cell_type": "markdown",
   "metadata": {},
   "source": [
    "# Wärmemenge, Wärmekapazität\n",
    "* [Wikipedia](https://de.wikipedia.org/wiki/Spezifische_W%C3%A4rmekapazit%C3%A4t)\n",
    "\n",
    "$\n",
    "\\begin{align}\n",
    "\\Delta Q = c * m * \\Delta T\n",
    "\\end{align}\n",
    "$\n",
    "\n",
    "* Q ... Wärme\n",
    "* c ... Spezifische Wärmekapazität\n",
    "* m ... Masse\n",
    "* T ... Temperatur\n",
    "\n",
    "Wasser: c = 4.184"
   ]
  },
  {
   "cell_type": "markdown",
   "metadata": {},
   "source": [
    "**Frage**: Wieviel Energie braucht man um einen 1000l Speicher um 20&deg; zu erwärmen?"
   ]
  },
  {
   "cell_type": "code",
   "execution_count": 3,
   "metadata": {},
   "outputs": [],
   "source": [
    "c = 4.184\n",
    "m = 1000\n",
    "delta_t = 20"
   ]
  },
  {
   "cell_type": "code",
   "execution_count": 5,
   "metadata": {},
   "outputs": [
    {
     "name": "stdout",
     "output_type": "stream",
     "text": [
      "Antwort: 83680.0  Joule\n"
     ]
    }
   ],
   "source": [
    "print('Antwort:', c*m*delta_t, ' Joule')"
   ]
  }
 ],
 "metadata": {
  "kernelspec": {
   "display_name": "Python 3",
   "language": "python",
   "name": "python3"
  },
  "language_info": {
   "codemirror_mode": {
    "name": "ipython",
    "version": 3
   },
   "file_extension": ".py",
   "mimetype": "text/x-python",
   "name": "python",
   "nbconvert_exporter": "python",
   "pygments_lexer": "ipython3",
   "version": "3.7.5"
  }
 },
 "nbformat": 4,
 "nbformat_minor": 2
}
